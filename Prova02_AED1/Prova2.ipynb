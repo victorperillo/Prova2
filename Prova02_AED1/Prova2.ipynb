{
 "cells": [
  {
   "cell_type": "code",
   "execution_count": 9,
   "id": "3b5f3bee-276d-45e8-961b-5cd9c66f611e",
   "metadata": {},
   "outputs": [
    {
     "name": "stdout",
     "output_type": "stream",
     "text": [
      "A média dos elementos é: 51.36666666666667\n"
     ]
    }
   ],
   "source": [
    "def cmedia(lista):\n",
    "    soma = 0\n",
    "    for numero in lista:\n",
    "        soma += numero  \n",
    "    media = soma / len(lista)  \n",
    "    return media  \n",
    "\n",
    "consumo = [50, 45, 55, 60, 48, 52, 47, 49, 53, 51, 50, 46, 54, 61, 49, 53, 48, 50, 52, 47, 56, 50, 55, 60, 48, 52, 47, 49, 53, 51]\n",
    "\n",
    "media = cmedia(consumo)\n",
    "print(\"A média dos elementos é:\", media)"
   ]
  }
 ],
 "metadata": {
  "kernelspec": {
   "display_name": "Python 3 (ipykernel)",
   "language": "python",
   "name": "python3"
  },
  "language_info": {
   "codemirror_mode": {
    "name": "ipython",
    "version": 3
   },
   "file_extension": ".py",
   "mimetype": "text/x-python",
   "name": "python",
   "nbconvert_exporter": "python",
   "pygments_lexer": "ipython3",
   "version": "3.12.4"
  }
 },
 "nbformat": 4,
 "nbformat_minor": 5
}
